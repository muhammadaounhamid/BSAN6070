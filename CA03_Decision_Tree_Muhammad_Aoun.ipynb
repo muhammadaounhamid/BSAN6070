{
 "cells": [
  {
   "cell_type": "code",
   "execution_count": 1,
   "id": "6e9b3eb1",
   "metadata": {},
   "outputs": [],
   "source": [
    "#CA03 - DECISION TREE ALGORITHM"
   ]
  },
  {
   "cell_type": "code",
   "execution_count": 2,
   "id": "80f56b63",
   "metadata": {},
   "outputs": [],
   "source": [
    "#importing necessary packages\n",
    "import pandas as pd\n",
    "import matplotlib.pyplot as plt\n",
    "from sklearn import preprocessing"
   ]
  },
  {
   "cell_type": "code",
   "execution_count": 3,
   "id": "9e3b462a",
   "metadata": {},
   "outputs": [],
   "source": [
    "#reading data into df\n",
    "url = 'https://github.com/ArinB/MSBA-CA-Data/blob/main/CA03/census_data.csv?raw=true'\n",
    "data = pd.read_csv(url, encoding = \"ISO-8859-1\")\n",
    "data2 = pd.read_csv(url, encoding = \"ISO-8859-1\")"
   ]
  },
  {
   "cell_type": "code",
   "execution_count": 4,
   "id": "a5f3c87a",
   "metadata": {},
   "outputs": [],
   "source": [
    "#PART1\n",
    "#1. DATA QUALITY ANALYSIS (DQA)"
   ]
  },
  {
   "cell_type": "code",
   "execution_count": 5,
   "id": "61037cd3",
   "metadata": {},
   "outputs": [
    {
     "data": {
      "text/plain": [
       "(48842, 11)"
      ]
     },
     "execution_count": 5,
     "metadata": {},
     "output_type": "execute_result"
    }
   ],
   "source": [
    "#checking the number of records and fields\n",
    "data.shape"
   ]
  },
  {
   "cell_type": "code",
   "execution_count": 6,
   "id": "5df0d29f",
   "metadata": {
    "scrolled": true
   },
   "outputs": [
    {
     "name": "stdout",
     "output_type": "stream",
     "text": [
      "<class 'pandas.core.frame.DataFrame'>\n",
      "RangeIndex: 48842 entries, 0 to 48841\n",
      "Data columns (total 11 columns):\n",
      " #   Column              Non-Null Count  Dtype \n",
      "---  ------              --------------  ----- \n",
      " 0   hours_per_week_bin  48842 non-null  object\n",
      " 1   occupation_bin      48842 non-null  object\n",
      " 2   msr_bin             48842 non-null  object\n",
      " 3   capital_gl_bin      48842 non-null  object\n",
      " 4   race_sex_bin        48842 non-null  object\n",
      " 5   education_num_bin   48842 non-null  object\n",
      " 6   education_bin       48842 non-null  object\n",
      " 7   workclass_bin       48842 non-null  object\n",
      " 8   age_bin             48842 non-null  object\n",
      " 9   flag                48842 non-null  object\n",
      " 10  y                   48842 non-null  int64 \n",
      "dtypes: int64(1), object(10)\n",
      "memory usage: 4.1+ MB\n"
     ]
    }
   ],
   "source": [
    "#checking the data type of all columns\n",
    "data.info()"
   ]
  },
  {
   "cell_type": "code",
   "execution_count": 7,
   "id": "6cf9ac6c",
   "metadata": {
    "scrolled": true
   },
   "outputs": [
    {
     "data": {
      "text/html": [
       "<div>\n",
       "<style scoped>\n",
       "    .dataframe tbody tr th:only-of-type {\n",
       "        vertical-align: middle;\n",
       "    }\n",
       "\n",
       "    .dataframe tbody tr th {\n",
       "        vertical-align: top;\n",
       "    }\n",
       "\n",
       "    .dataframe thead th {\n",
       "        text-align: right;\n",
       "    }\n",
       "</style>\n",
       "<table border=\"1\" class=\"dataframe\">\n",
       "  <thead>\n",
       "    <tr style=\"text-align: right;\">\n",
       "      <th></th>\n",
       "      <th>hours_per_week_bin</th>\n",
       "      <th>occupation_bin</th>\n",
       "      <th>msr_bin</th>\n",
       "      <th>capital_gl_bin</th>\n",
       "      <th>race_sex_bin</th>\n",
       "      <th>education_num_bin</th>\n",
       "      <th>education_bin</th>\n",
       "      <th>workclass_bin</th>\n",
       "      <th>age_bin</th>\n",
       "      <th>flag</th>\n",
       "      <th>y</th>\n",
       "    </tr>\n",
       "  </thead>\n",
       "  <tbody>\n",
       "    <tr>\n",
       "      <th>0</th>\n",
       "      <td>b. 31-40</td>\n",
       "      <td>b. Mid - Low</td>\n",
       "      <td>b. Mid</td>\n",
       "      <td>c. &gt; 0</td>\n",
       "      <td>c. High</td>\n",
       "      <td>c. 13</td>\n",
       "      <td>c. Bachelors</td>\n",
       "      <td>b. income</td>\n",
       "      <td>d. 36-40 &amp; 56-60</td>\n",
       "      <td>train</td>\n",
       "      <td>0</td>\n",
       "    </tr>\n",
       "    <tr>\n",
       "      <th>1</th>\n",
       "      <td>a. 0-30</td>\n",
       "      <td>e. High</td>\n",
       "      <td>c. High</td>\n",
       "      <td>a. = 0</td>\n",
       "      <td>c. High</td>\n",
       "      <td>c. 13</td>\n",
       "      <td>c. Bachelors</td>\n",
       "      <td>b. income</td>\n",
       "      <td>e. 40-55</td>\n",
       "      <td>train</td>\n",
       "      <td>0</td>\n",
       "    </tr>\n",
       "    <tr>\n",
       "      <th>2</th>\n",
       "      <td>b. 31-40</td>\n",
       "      <td>a. Low</td>\n",
       "      <td>b. Mid</td>\n",
       "      <td>a. = 0</td>\n",
       "      <td>c. High</td>\n",
       "      <td>b. 9-12</td>\n",
       "      <td>b. Mid</td>\n",
       "      <td>b. income</td>\n",
       "      <td>d. 36-40 &amp; 56-60</td>\n",
       "      <td>train</td>\n",
       "      <td>0</td>\n",
       "    </tr>\n",
       "    <tr>\n",
       "      <th>3</th>\n",
       "      <td>b. 31-40</td>\n",
       "      <td>a. Low</td>\n",
       "      <td>c. High</td>\n",
       "      <td>a. = 0</td>\n",
       "      <td>b. Mid</td>\n",
       "      <td>a. 0-8</td>\n",
       "      <td>a. Low</td>\n",
       "      <td>b. income</td>\n",
       "      <td>e. 40-55</td>\n",
       "      <td>train</td>\n",
       "      <td>0</td>\n",
       "    </tr>\n",
       "    <tr>\n",
       "      <th>4</th>\n",
       "      <td>b. 31-40</td>\n",
       "      <td>e. High</td>\n",
       "      <td>c. High</td>\n",
       "      <td>a. = 0</td>\n",
       "      <td>a. Low</td>\n",
       "      <td>c. 13</td>\n",
       "      <td>c. Bachelors</td>\n",
       "      <td>b. income</td>\n",
       "      <td>b. 26-30 &amp; 71-100</td>\n",
       "      <td>train</td>\n",
       "      <td>0</td>\n",
       "    </tr>\n",
       "  </tbody>\n",
       "</table>\n",
       "</div>"
      ],
      "text/plain": [
       "  hours_per_week_bin occupation_bin  msr_bin capital_gl_bin race_sex_bin  \\\n",
       "0           b. 31-40   b. Mid - Low   b. Mid         c. > 0      c. High   \n",
       "1            a. 0-30        e. High  c. High         a. = 0      c. High   \n",
       "2           b. 31-40         a. Low   b. Mid         a. = 0      c. High   \n",
       "3           b. 31-40         a. Low  c. High         a. = 0       b. Mid   \n",
       "4           b. 31-40        e. High  c. High         a. = 0       a. Low   \n",
       "\n",
       "  education_num_bin education_bin workclass_bin            age_bin   flag  y  \n",
       "0             c. 13  c. Bachelors     b. income   d. 36-40 & 56-60  train  0  \n",
       "1             c. 13  c. Bachelors     b. income           e. 40-55  train  0  \n",
       "2           b. 9-12        b. Mid     b. income   d. 36-40 & 56-60  train  0  \n",
       "3            a. 0-8        a. Low     b. income           e. 40-55  train  0  \n",
       "4             c. 13  c. Bachelors     b. income  b. 26-30 & 71-100  train  0  "
      ]
     },
     "execution_count": 7,
     "metadata": {},
     "output_type": "execute_result"
    }
   ],
   "source": [
    "#checking the first five records to understand the data\n",
    "data.head()"
   ]
  },
  {
   "cell_type": "code",
   "execution_count": 8,
   "id": "2ce2b7aa",
   "metadata": {
    "scrolled": false
   },
   "outputs": [
    {
     "data": {
      "text/html": [
       "<div>\n",
       "<style scoped>\n",
       "    .dataframe tbody tr th:only-of-type {\n",
       "        vertical-align: middle;\n",
       "    }\n",
       "\n",
       "    .dataframe tbody tr th {\n",
       "        vertical-align: top;\n",
       "    }\n",
       "\n",
       "    .dataframe thead th {\n",
       "        text-align: right;\n",
       "    }\n",
       "</style>\n",
       "<table border=\"1\" class=\"dataframe\">\n",
       "  <thead>\n",
       "    <tr style=\"text-align: right;\">\n",
       "      <th></th>\n",
       "      <th>hours_per_week_bin</th>\n",
       "      <th>occupation_bin</th>\n",
       "      <th>msr_bin</th>\n",
       "      <th>capital_gl_bin</th>\n",
       "      <th>race_sex_bin</th>\n",
       "      <th>education_num_bin</th>\n",
       "      <th>education_bin</th>\n",
       "      <th>workclass_bin</th>\n",
       "      <th>age_bin</th>\n",
       "      <th>flag</th>\n",
       "      <th>y</th>\n",
       "    </tr>\n",
       "  </thead>\n",
       "  <tbody>\n",
       "    <tr>\n",
       "      <th>48837</th>\n",
       "      <td>b. 31-40</td>\n",
       "      <td>e. High</td>\n",
       "      <td>b. Mid</td>\n",
       "      <td>a. = 0</td>\n",
       "      <td>b. Mid</td>\n",
       "      <td>c. 13</td>\n",
       "      <td>c. Bachelors</td>\n",
       "      <td>b. income</td>\n",
       "      <td>d. 36-40 &amp; 56-60</td>\n",
       "      <td>test</td>\n",
       "      <td>0</td>\n",
       "    </tr>\n",
       "    <tr>\n",
       "      <th>48838</th>\n",
       "      <td>b. 31-40</td>\n",
       "      <td>b. Mid - Low</td>\n",
       "      <td>a. Low</td>\n",
       "      <td>a. = 0</td>\n",
       "      <td>b. Mid</td>\n",
       "      <td>b. 9-12</td>\n",
       "      <td>b. Mid</td>\n",
       "      <td>a. no income</td>\n",
       "      <td>c. 31-35 &amp; 61-70</td>\n",
       "      <td>test</td>\n",
       "      <td>0</td>\n",
       "    </tr>\n",
       "    <tr>\n",
       "      <th>48839</th>\n",
       "      <td>d. 41-50 &amp; 61-70</td>\n",
       "      <td>e. High</td>\n",
       "      <td>c. High</td>\n",
       "      <td>a. = 0</td>\n",
       "      <td>c. High</td>\n",
       "      <td>c. 13</td>\n",
       "      <td>c. Bachelors</td>\n",
       "      <td>b. income</td>\n",
       "      <td>d. 36-40 &amp; 56-60</td>\n",
       "      <td>test</td>\n",
       "      <td>0</td>\n",
       "    </tr>\n",
       "    <tr>\n",
       "      <th>48840</th>\n",
       "      <td>b. 31-40</td>\n",
       "      <td>b. Mid - Low</td>\n",
       "      <td>a. Low</td>\n",
       "      <td>c. &gt; 0</td>\n",
       "      <td>c. High</td>\n",
       "      <td>c. 13</td>\n",
       "      <td>c. Bachelors</td>\n",
       "      <td>b. income</td>\n",
       "      <td>e. 40-55</td>\n",
       "      <td>test</td>\n",
       "      <td>0</td>\n",
       "    </tr>\n",
       "    <tr>\n",
       "      <th>48841</th>\n",
       "      <td>e. 51-60</td>\n",
       "      <td>e. High</td>\n",
       "      <td>c. High</td>\n",
       "      <td>a. = 0</td>\n",
       "      <td>c. High</td>\n",
       "      <td>c. 13</td>\n",
       "      <td>c. Bachelors</td>\n",
       "      <td>b. income</td>\n",
       "      <td>c. 31-35 &amp; 61-70</td>\n",
       "      <td>test</td>\n",
       "      <td>1</td>\n",
       "    </tr>\n",
       "  </tbody>\n",
       "</table>\n",
       "</div>"
      ],
      "text/plain": [
       "      hours_per_week_bin occupation_bin  msr_bin capital_gl_bin race_sex_bin  \\\n",
       "48837           b. 31-40        e. High   b. Mid         a. = 0       b. Mid   \n",
       "48838           b. 31-40   b. Mid - Low   a. Low         a. = 0       b. Mid   \n",
       "48839   d. 41-50 & 61-70        e. High  c. High         a. = 0      c. High   \n",
       "48840           b. 31-40   b. Mid - Low   a. Low         c. > 0      c. High   \n",
       "48841           e. 51-60        e. High  c. High         a. = 0      c. High   \n",
       "\n",
       "      education_num_bin education_bin workclass_bin           age_bin  flag  y  \n",
       "48837             c. 13  c. Bachelors     b. income  d. 36-40 & 56-60  test  0  \n",
       "48838           b. 9-12        b. Mid  a. no income  c. 31-35 & 61-70  test  0  \n",
       "48839             c. 13  c. Bachelors     b. income  d. 36-40 & 56-60  test  0  \n",
       "48840             c. 13  c. Bachelors     b. income          e. 40-55  test  0  \n",
       "48841             c. 13  c. Bachelors     b. income  c. 31-35 & 61-70  test  1  "
      ]
     },
     "execution_count": 8,
     "metadata": {},
     "output_type": "execute_result"
    }
   ],
   "source": [
    "#checking the last five records to understand the data\n",
    "data.tail()"
   ]
  },
  {
   "cell_type": "code",
   "execution_count": 9,
   "id": "ea9602c9",
   "metadata": {
    "scrolled": true
   },
   "outputs": [
    {
     "data": {
      "text/plain": [
       "hours_per_week_bin    0\n",
       "occupation_bin        0\n",
       "msr_bin               0\n",
       "capital_gl_bin        0\n",
       "race_sex_bin          0\n",
       "education_num_bin     0\n",
       "education_bin         0\n",
       "workclass_bin         0\n",
       "age_bin               0\n",
       "flag                  0\n",
       "y                     0\n",
       "dtype: int64"
      ]
     },
     "execution_count": 9,
     "metadata": {},
     "output_type": "execute_result"
    }
   ],
   "source": [
    "#Missing values\n",
    "data.isna().sum()"
   ]
  },
  {
   "cell_type": "code",
   "execution_count": 10,
   "id": "02a88342",
   "metadata": {},
   "outputs": [],
   "source": [
    "#Cleaning the Dataset"
   ]
  },
  {
   "cell_type": "code",
   "execution_count": 11,
   "id": "9fd182d2",
   "metadata": {},
   "outputs": [
    {
     "data": {
      "text/plain": [
       "Index(['hours_per_week_bin', 'occupation_bin', 'msr_bin', 'capital_gl_bin',\n",
       "       'race_sex_bin', 'education_num_bin', 'education_bin', 'workclass_bin',\n",
       "       'age_bin', 'flag', 'y'],\n",
       "      dtype='object')"
      ]
     },
     "execution_count": 11,
     "metadata": {},
     "output_type": "execute_result"
    }
   ],
   "source": [
    "#These are the final columns we will be using\n",
    "#There are no missing values\n",
    "#There are no columns to be dropped\n",
    "data.columns"
   ]
  },
  {
   "cell_type": "code",
   "execution_count": 12,
   "id": "3f8bff06",
   "metadata": {},
   "outputs": [],
   "source": [
    "#2. EXPLORATORY DATA ANALYSIS (EDA)"
   ]
  },
  {
   "cell_type": "code",
   "execution_count": 13,
   "id": "d8efff37",
   "metadata": {},
   "outputs": [],
   "source": [
    "data_original = data2"
   ]
  },
  {
   "cell_type": "code",
   "execution_count": 14,
   "id": "c44953cd",
   "metadata": {},
   "outputs": [
    {
     "data": {
      "text/plain": [
       "array(['d. 36-40 & 56-60', 'e. 40-55', 'b. 26-30 & 71-100',\n",
       "       'c. 31-35 & 61-70', 'a. 0-25'], dtype=object)"
      ]
     },
     "execution_count": 14,
     "metadata": {},
     "output_type": "execute_result"
    }
   ],
   "source": [
    "#checking the values of a column before the transformation\n",
    "data['age_bin'].unique()"
   ]
  },
  {
   "cell_type": "code",
   "execution_count": 15,
   "id": "9c5ea7df",
   "metadata": {},
   "outputs": [],
   "source": [
    "label_encoder = preprocessing.LabelEncoder()\n",
    "\n",
    "#Encoding labels in columns\n",
    "data['hours_per_week_bin']= label_encoder.fit_transform(data['hours_per_week_bin']) \n",
    "data['occupation_bin']= label_encoder.fit_transform(data['occupation_bin'])\n",
    "data['msr_bin']= label_encoder.fit_transform(data['msr_bin']) \n",
    "data['capital_gl_bin']= label_encoder.fit_transform(data['capital_gl_bin']) \n",
    "data['race_sex_bin']= label_encoder.fit_transform(data['race_sex_bin']) \n",
    "data['education_bin']= label_encoder.fit_transform(data['education_bin'])  \n",
    "data['age_bin']= label_encoder.fit_transform(data['age_bin'])\n",
    "data['education_num_bin']= label_encoder.fit_transform(data['education_num_bin'])\n",
    "data['workclass_bin']= label_encoder.fit_transform(data['workclass_bin']) "
   ]
  },
  {
   "cell_type": "code",
   "execution_count": 16,
   "id": "1e181d28",
   "metadata": {},
   "outputs": [
    {
     "data": {
      "text/html": [
       "<div>\n",
       "<style scoped>\n",
       "    .dataframe tbody tr th:only-of-type {\n",
       "        vertical-align: middle;\n",
       "    }\n",
       "\n",
       "    .dataframe tbody tr th {\n",
       "        vertical-align: top;\n",
       "    }\n",
       "\n",
       "    .dataframe thead th {\n",
       "        text-align: right;\n",
       "    }\n",
       "</style>\n",
       "<table border=\"1\" class=\"dataframe\">\n",
       "  <thead>\n",
       "    <tr style=\"text-align: right;\">\n",
       "      <th></th>\n",
       "      <th>hours_per_week_bin</th>\n",
       "      <th>occupation_bin</th>\n",
       "      <th>msr_bin</th>\n",
       "      <th>capital_gl_bin</th>\n",
       "      <th>race_sex_bin</th>\n",
       "      <th>education_num_bin</th>\n",
       "      <th>education_bin</th>\n",
       "      <th>workclass_bin</th>\n",
       "      <th>age_bin</th>\n",
       "      <th>flag</th>\n",
       "      <th>y</th>\n",
       "    </tr>\n",
       "  </thead>\n",
       "  <tbody>\n",
       "    <tr>\n",
       "      <th>0</th>\n",
       "      <td>1</td>\n",
       "      <td>1</td>\n",
       "      <td>1</td>\n",
       "      <td>2</td>\n",
       "      <td>2</td>\n",
       "      <td>2</td>\n",
       "      <td>2</td>\n",
       "      <td>1</td>\n",
       "      <td>3</td>\n",
       "      <td>train</td>\n",
       "      <td>0</td>\n",
       "    </tr>\n",
       "    <tr>\n",
       "      <th>1</th>\n",
       "      <td>0</td>\n",
       "      <td>4</td>\n",
       "      <td>2</td>\n",
       "      <td>0</td>\n",
       "      <td>2</td>\n",
       "      <td>2</td>\n",
       "      <td>2</td>\n",
       "      <td>1</td>\n",
       "      <td>4</td>\n",
       "      <td>train</td>\n",
       "      <td>0</td>\n",
       "    </tr>\n",
       "    <tr>\n",
       "      <th>2</th>\n",
       "      <td>1</td>\n",
       "      <td>0</td>\n",
       "      <td>1</td>\n",
       "      <td>0</td>\n",
       "      <td>2</td>\n",
       "      <td>1</td>\n",
       "      <td>1</td>\n",
       "      <td>1</td>\n",
       "      <td>3</td>\n",
       "      <td>train</td>\n",
       "      <td>0</td>\n",
       "    </tr>\n",
       "    <tr>\n",
       "      <th>3</th>\n",
       "      <td>1</td>\n",
       "      <td>0</td>\n",
       "      <td>2</td>\n",
       "      <td>0</td>\n",
       "      <td>1</td>\n",
       "      <td>0</td>\n",
       "      <td>0</td>\n",
       "      <td>1</td>\n",
       "      <td>4</td>\n",
       "      <td>train</td>\n",
       "      <td>0</td>\n",
       "    </tr>\n",
       "    <tr>\n",
       "      <th>4</th>\n",
       "      <td>1</td>\n",
       "      <td>4</td>\n",
       "      <td>2</td>\n",
       "      <td>0</td>\n",
       "      <td>0</td>\n",
       "      <td>2</td>\n",
       "      <td>2</td>\n",
       "      <td>1</td>\n",
       "      <td>1</td>\n",
       "      <td>train</td>\n",
       "      <td>0</td>\n",
       "    </tr>\n",
       "    <tr>\n",
       "      <th>...</th>\n",
       "      <td>...</td>\n",
       "      <td>...</td>\n",
       "      <td>...</td>\n",
       "      <td>...</td>\n",
       "      <td>...</td>\n",
       "      <td>...</td>\n",
       "      <td>...</td>\n",
       "      <td>...</td>\n",
       "      <td>...</td>\n",
       "      <td>...</td>\n",
       "      <td>...</td>\n",
       "    </tr>\n",
       "    <tr>\n",
       "      <th>48837</th>\n",
       "      <td>1</td>\n",
       "      <td>4</td>\n",
       "      <td>1</td>\n",
       "      <td>0</td>\n",
       "      <td>1</td>\n",
       "      <td>2</td>\n",
       "      <td>2</td>\n",
       "      <td>1</td>\n",
       "      <td>3</td>\n",
       "      <td>test</td>\n",
       "      <td>0</td>\n",
       "    </tr>\n",
       "    <tr>\n",
       "      <th>48838</th>\n",
       "      <td>1</td>\n",
       "      <td>1</td>\n",
       "      <td>0</td>\n",
       "      <td>0</td>\n",
       "      <td>1</td>\n",
       "      <td>1</td>\n",
       "      <td>1</td>\n",
       "      <td>0</td>\n",
       "      <td>2</td>\n",
       "      <td>test</td>\n",
       "      <td>0</td>\n",
       "    </tr>\n",
       "    <tr>\n",
       "      <th>48839</th>\n",
       "      <td>3</td>\n",
       "      <td>4</td>\n",
       "      <td>2</td>\n",
       "      <td>0</td>\n",
       "      <td>2</td>\n",
       "      <td>2</td>\n",
       "      <td>2</td>\n",
       "      <td>1</td>\n",
       "      <td>3</td>\n",
       "      <td>test</td>\n",
       "      <td>0</td>\n",
       "    </tr>\n",
       "    <tr>\n",
       "      <th>48840</th>\n",
       "      <td>1</td>\n",
       "      <td>1</td>\n",
       "      <td>0</td>\n",
       "      <td>2</td>\n",
       "      <td>2</td>\n",
       "      <td>2</td>\n",
       "      <td>2</td>\n",
       "      <td>1</td>\n",
       "      <td>4</td>\n",
       "      <td>test</td>\n",
       "      <td>0</td>\n",
       "    </tr>\n",
       "    <tr>\n",
       "      <th>48841</th>\n",
       "      <td>4</td>\n",
       "      <td>4</td>\n",
       "      <td>2</td>\n",
       "      <td>0</td>\n",
       "      <td>2</td>\n",
       "      <td>2</td>\n",
       "      <td>2</td>\n",
       "      <td>1</td>\n",
       "      <td>2</td>\n",
       "      <td>test</td>\n",
       "      <td>1</td>\n",
       "    </tr>\n",
       "  </tbody>\n",
       "</table>\n",
       "<p>48842 rows × 11 columns</p>\n",
       "</div>"
      ],
      "text/plain": [
       "       hours_per_week_bin  occupation_bin  msr_bin  capital_gl_bin  \\\n",
       "0                       1               1        1               2   \n",
       "1                       0               4        2               0   \n",
       "2                       1               0        1               0   \n",
       "3                       1               0        2               0   \n",
       "4                       1               4        2               0   \n",
       "...                   ...             ...      ...             ...   \n",
       "48837                   1               4        1               0   \n",
       "48838                   1               1        0               0   \n",
       "48839                   3               4        2               0   \n",
       "48840                   1               1        0               2   \n",
       "48841                   4               4        2               0   \n",
       "\n",
       "       race_sex_bin  education_num_bin  education_bin  workclass_bin  age_bin  \\\n",
       "0                 2                  2              2              1        3   \n",
       "1                 2                  2              2              1        4   \n",
       "2                 2                  1              1              1        3   \n",
       "3                 1                  0              0              1        4   \n",
       "4                 0                  2              2              1        1   \n",
       "...             ...                ...            ...            ...      ...   \n",
       "48837             1                  2              2              1        3   \n",
       "48838             1                  1              1              0        2   \n",
       "48839             2                  2              2              1        3   \n",
       "48840             2                  2              2              1        4   \n",
       "48841             2                  2              2              1        2   \n",
       "\n",
       "        flag  y  \n",
       "0      train  0  \n",
       "1      train  0  \n",
       "2      train  0  \n",
       "3      train  0  \n",
       "4      train  0  \n",
       "...      ... ..  \n",
       "48837   test  0  \n",
       "48838   test  0  \n",
       "48839   test  0  \n",
       "48840   test  0  \n",
       "48841   test  1  \n",
       "\n",
       "[48842 rows x 11 columns]"
      ]
     },
     "execution_count": 16,
     "metadata": {},
     "output_type": "execute_result"
    }
   ],
   "source": [
    "data"
   ]
  },
  {
   "cell_type": "code",
   "execution_count": 17,
   "id": "5a29ba7a",
   "metadata": {},
   "outputs": [
    {
     "data": {
      "text/plain": [
       "array([3, 4, 1, 2, 0])"
      ]
     },
     "execution_count": 17,
     "metadata": {},
     "output_type": "execute_result"
    }
   ],
   "source": [
    "#confirming values are encoded\n",
    "data['age_bin'].unique()"
   ]
  },
  {
   "cell_type": "code",
   "execution_count": 18,
   "id": "33a1a17f",
   "metadata": {},
   "outputs": [],
   "source": [
    "def flag_func(name_col, nums):\n",
    "  list_result = []\n",
    "  for num in range(nums):\n",
    "    list_result.append(len(data[name_col][(data.y == 0) & (data[name_col] == num)])/len(data[name_col][(data[name_col] == num)]))\n",
    "  alternate_list = []\n",
    "  for result in list_result:\n",
    "    alternate_list.append(1-result)\n",
    "  temp_data = pd.DataFrame(zip(list_result, alternate_list), columns=[0,1], index=sorted(list(data_original[name_col].unique())))\n",
    "  temp_data = temp_data * 100\n",
    "  temp_data.plot.bar(stacked=True, title=name_col)\n",
    "  return(temp_data)"
   ]
  },
  {
   "cell_type": "code",
   "execution_count": 19,
   "id": "62187090",
   "metadata": {
    "scrolled": false
   },
   "outputs": [
    {
     "data": {
      "text/html": [
       "<div>\n",
       "<style scoped>\n",
       "    .dataframe tbody tr th:only-of-type {\n",
       "        vertical-align: middle;\n",
       "    }\n",
       "\n",
       "    .dataframe tbody tr th {\n",
       "        vertical-align: top;\n",
       "    }\n",
       "\n",
       "    .dataframe thead th {\n",
       "        text-align: right;\n",
       "    }\n",
       "</style>\n",
       "<table border=\"1\" class=\"dataframe\">\n",
       "  <thead>\n",
       "    <tr style=\"text-align: right;\">\n",
       "      <th></th>\n",
       "      <th>0</th>\n",
       "      <th>1</th>\n",
       "    </tr>\n",
       "  </thead>\n",
       "  <tbody>\n",
       "    <tr>\n",
       "      <th>a. Low</th>\n",
       "      <td>94.033233</td>\n",
       "      <td>5.966767</td>\n",
       "    </tr>\n",
       "    <tr>\n",
       "      <th>b. Mid</th>\n",
       "      <td>87.093638</td>\n",
       "      <td>12.906362</td>\n",
       "    </tr>\n",
       "    <tr>\n",
       "      <th>c. High</th>\n",
       "      <td>68.372734</td>\n",
       "      <td>31.627266</td>\n",
       "    </tr>\n",
       "  </tbody>\n",
       "</table>\n",
       "</div>"
      ],
      "text/plain": [
       "                 0          1\n",
       "a. Low   94.033233   5.966767\n",
       "b. Mid   87.093638  12.906362\n",
       "c. High  68.372734  31.627266"
      ]
     },
     "execution_count": 19,
     "metadata": {},
     "output_type": "execute_result"
    },
    {
     "data": {
      "image/png": "[encoded data removed]",
      "text/plain": [
       "<Figure size 432x288 with 1 Axes>"
      ]
     },
     "metadata": {
      "needs_background": "light"
     },
     "output_type": "display_data"
    },
    {
     "data": {
      "image/png": "[encoded data removed]",
      "text/plain": [
       "<Figure size 432x288 with 1 Axes>"
      ]
     },
     "metadata": {
      "needs_background": "light"
     },
     "output_type": "display_data"
    },
    {
     "data": {
      "image/png": "[encoded data removed]",
      "text/plain": [
       "<Figure size 432x288 with 1 Axes>"
      ]
     },
     "metadata": {
      "needs_background": "light"
     },
     "output_type": "display_data"
    },
    {
     "data": {
      "image/png": "[encoded data removed]",
      "text/plain": [
       "<Figure size 432x288 with 1 Axes>"
      ]
     },
     "metadata": {
      "needs_background": "light"
     },
     "output_type": "display_data"
    },
    {
     "data": {
      "image/png": "[encoded data removed]",
      "text/plain": [
       "<Figure size 432x288 with 1 Axes>"
      ]
     },
     "metadata": {
      "needs_background": "light"
     },
     "output_type": "display_data"
    },
    {
     "data": {
      "image/png": "[encoded data removed]",
      "text/plain": [
       "<Figure size 432x288 with 1 Axes>"
      ]
     },
     "metadata": {
      "needs_background": "light"
     },
     "output_type": "display_data"
    },
    {
     "data": {
      "image/png": "[encoded data removed]",
      "text/plain": [
       "<Figure size 432x288 with 1 Axes>"
      ]
     },
     "metadata": {
      "needs_background": "light"
     },
     "output_type": "display_data"
    }
   ],
   "source": [
    "flag_func('age_bin', 5)\n",
    "flag_func('capital_gl_bin', 3)\n",
    "flag_func('education_bin', 5)\n",
    "flag_func('hours_per_week_bin', 5)\n",
    "flag_func('msr_bin', 3)\n",
    "flag_func('occupation_bin', 5)\n",
    "flag_func('race_sex_bin', 3)\n",
    "\n",
    "#Click on the output line to see all graphs or scroll down inside the output window"
   ]
  },
  {
   "cell_type": "code",
   "execution_count": 20,
   "id": "22f61747",
   "metadata": {},
   "outputs": [],
   "source": [
    "#PART2\n",
    "#3. BUILD DECISION TREE CLASSIFIER MODELS"
   ]
  },
  {
   "cell_type": "code",
   "execution_count": 21,
   "id": "37e15339",
   "metadata": {},
   "outputs": [],
   "source": [
    "#import the necessary packages for our decision tree\n",
    "from sklearn.model_selection import train_test_split\n",
    "from sklearn.tree import DecisionTreeClassifier\n",
    "dtree = DecisionTreeClassifier(criterion = 'entropy', random_state=99, max_features = None, min_samples_leaf = 1000, min_samples_split = 1000)"
   ]
  },
  {
   "cell_type": "code",
   "execution_count": 22,
   "id": "a969c10a",
   "metadata": {},
   "outputs": [],
   "source": [
    "#splitting data\n",
    "test_data = data[data.flag == 'test']\n",
    "train_data = data[data.flag == 'train']"
   ]
  },
  {
   "cell_type": "code",
   "execution_count": 23,
   "id": "289d49a5",
   "metadata": {},
   "outputs": [],
   "source": [
    "#selecting specific columns for analysis\n",
    "y_train = train_data.y\n",
    "y_test = test_data.y\n",
    "\n",
    "x_train = train_data.drop(['flag', 'y'], axis = 'columns')\n",
    "x_test = test_data.drop(['flag', 'y'], axis = 'columns')"
   ]
  },
  {
   "cell_type": "code",
   "execution_count": 24,
   "id": "9f29c58b",
   "metadata": {},
   "outputs": [],
   "source": [
    "#fitting model\n",
    "dtree.fit(x_train, y_train)\n",
    "y_pred = dtree.predict(x_test)"
   ]
  },
  {
   "cell_type": "code",
   "execution_count": 25,
   "id": "7ad996b2",
   "metadata": {},
   "outputs": [],
   "source": [
    "#4. VIZUALIZE YOUR DECISION TREE USING GRAPHVIZ"
   ]
  },
  {
   "cell_type": "code",
   "execution_count": 26,
   "id": "3e346c75",
   "metadata": {},
   "outputs": [
    {
     "name": "stdout",
     "output_type": "stream",
     "text": [
      "Requirement already satisfied: pydotplus in /opt/anaconda3/lib/python3.8/site-packages (2.0.2)\n",
      "Requirement already satisfied: pyparsing>=2.0.1 in /opt/anaconda3/lib/python3.8/site-packages (from pydotplus) (2.4.7)\n",
      "Requirement already satisfied: graphviz in /opt/anaconda3/lib/python3.8/site-packages (0.19.1)\n"
     ]
    },
    {
     "ename": "InvocationException",
     "evalue": "GraphViz's executables not found",
     "output_type": "error",
     "traceback": [
      "\u001b[0;31m---------------------------------------------------------------------------\u001b[0m",
      "\u001b[0;31mInvocationException\u001b[0m                       Traceback (most recent call last)",
      "\u001b[0;32m<ipython-input-26-48c59cdf0b8a>\u001b[0m in \u001b[0;36m<module>\u001b[0;34m\u001b[0m\n\u001b[1;32m     15\u001b[0m \u001b[0;34m\u001b[0m\u001b[0m\n\u001b[1;32m     16\u001b[0m \u001b[0mgraph\u001b[0m \u001b[0;34m=\u001b[0m \u001b[0mpydotplus\u001b[0m\u001b[0;34m.\u001b[0m\u001b[0mgraph_from_dot_data\u001b[0m\u001b[0;34m(\u001b[0m\u001b[0mdot_data\u001b[0m\u001b[0;34m.\u001b[0m\u001b[0mgetvalue\u001b[0m\u001b[0;34m(\u001b[0m\u001b[0;34m)\u001b[0m\u001b[0;34m)\u001b[0m\u001b[0;34m\u001b[0m\u001b[0;34m\u001b[0m\u001b[0m\n\u001b[0;32m---> 17\u001b[0;31m \u001b[0mImage\u001b[0m\u001b[0;34m(\u001b[0m\u001b[0mgraph\u001b[0m\u001b[0;34m.\u001b[0m\u001b[0mcreate_png\u001b[0m\u001b[0;34m(\u001b[0m\u001b[0;34m)\u001b[0m\u001b[0;34m)\u001b[0m\u001b[0;34m\u001b[0m\u001b[0;34m\u001b[0m\u001b[0m\n\u001b[0m",
      "\u001b[0;32m/opt/anaconda3/lib/python3.8/site-packages/pydotplus/graphviz.py\u001b[0m in \u001b[0;36m<lambda>\u001b[0;34m(f, prog)\u001b[0m\n\u001b[1;32m   1795\u001b[0m             self.__setattr__(\n\u001b[1;32m   1796\u001b[0m                 \u001b[0;34m'create_'\u001b[0m \u001b[0;34m+\u001b[0m \u001b[0mfrmt\u001b[0m\u001b[0;34m,\u001b[0m\u001b[0;34m\u001b[0m\u001b[0;34m\u001b[0m\u001b[0m\n\u001b[0;32m-> 1797\u001b[0;31m                 \u001b[0;32mlambda\u001b[0m \u001b[0mf\u001b[0m\u001b[0;34m=\u001b[0m\u001b[0mfrmt\u001b[0m\u001b[0;34m,\u001b[0m \u001b[0mprog\u001b[0m\u001b[0;34m=\u001b[0m\u001b[0mself\u001b[0m\u001b[0;34m.\u001b[0m\u001b[0mprog\u001b[0m\u001b[0;34m:\u001b[0m \u001b[0mself\u001b[0m\u001b[0;34m.\u001b[0m\u001b[0mcreate\u001b[0m\u001b[0;34m(\u001b[0m\u001b[0mformat\u001b[0m\u001b[0;34m=\u001b[0m\u001b[0mf\u001b[0m\u001b[0;34m,\u001b[0m \u001b[0mprog\u001b[0m\u001b[0;34m=\u001b[0m\u001b[0mprog\u001b[0m\u001b[0;34m)\u001b[0m\u001b[0;34m\u001b[0m\u001b[0;34m\u001b[0m\u001b[0m\n\u001b[0m\u001b[1;32m   1798\u001b[0m             )\n\u001b[1;32m   1799\u001b[0m             \u001b[0mf\u001b[0m \u001b[0;34m=\u001b[0m \u001b[0mself\u001b[0m\u001b[0;34m.\u001b[0m\u001b[0m__dict__\u001b[0m\u001b[0;34m[\u001b[0m\u001b[0;34m'create_'\u001b[0m \u001b[0;34m+\u001b[0m \u001b[0mfrmt\u001b[0m\u001b[0;34m]\u001b[0m\u001b[0;34m\u001b[0m\u001b[0;34m\u001b[0m\u001b[0m\n",
      "\u001b[0;32m/opt/anaconda3/lib/python3.8/site-packages/pydotplus/graphviz.py\u001b[0m in \u001b[0;36mcreate\u001b[0;34m(self, prog, format)\u001b[0m\n\u001b[1;32m   1957\u001b[0m             \u001b[0mself\u001b[0m\u001b[0;34m.\u001b[0m\u001b[0mprogs\u001b[0m \u001b[0;34m=\u001b[0m \u001b[0mfind_graphviz\u001b[0m\u001b[0;34m(\u001b[0m\u001b[0;34m)\u001b[0m\u001b[0;34m\u001b[0m\u001b[0;34m\u001b[0m\u001b[0m\n\u001b[1;32m   1958\u001b[0m             \u001b[0;32mif\u001b[0m \u001b[0mself\u001b[0m\u001b[0;34m.\u001b[0m\u001b[0mprogs\u001b[0m \u001b[0;32mis\u001b[0m \u001b[0;32mNone\u001b[0m\u001b[0;34m:\u001b[0m\u001b[0;34m\u001b[0m\u001b[0;34m\u001b[0m\u001b[0m\n\u001b[0;32m-> 1959\u001b[0;31m                 raise InvocationException(\n\u001b[0m\u001b[1;32m   1960\u001b[0m                     'GraphViz\\'s executables not found')\n\u001b[1;32m   1961\u001b[0m \u001b[0;34m\u001b[0m\u001b[0m\n",
      "\u001b[0;31mInvocationException\u001b[0m: GraphViz's executables not found"
     ]
    }
   ],
   "source": [
    "#graphing the decison tree using the following packages.\n",
    "from six import StringIO  \n",
    "from IPython.display import Image  \n",
    "!pip install pydotplus\n",
    "import pydotplus\n",
    "!pip install graphviz\n",
    "import graphviz\n",
    "from sklearn.tree import export_graphviz\n",
    "\n",
    "dot_data = StringIO()\n",
    "\n",
    "export_graphviz(dtree, out_file=dot_data,  \n",
    "                filled=True, rounded=True,\n",
    "                special_characters=True)\n",
    "\n",
    "graph = pydotplus.graph_from_dot_data(dot_data.getvalue())  \n",
    "Image(graph.create_png())"
   ]
  },
  {
   "cell_type": "code",
   "execution_count": 27,
   "id": "e382836b",
   "metadata": {},
   "outputs": [],
   "source": [
    "#5. EVALUATE DECISION TREE PERFORMANCE"
   ]
  },
  {
   "cell_type": "code",
   "execution_count": 28,
   "id": "17802485",
   "metadata": {},
   "outputs": [
    {
     "data": {
      "text/plain": [
       "array([[11275,  1160],\n",
       "       [ 1540,  2306]])"
      ]
     },
     "execution_count": 28,
     "metadata": {},
     "output_type": "execute_result"
    }
   ],
   "source": [
    "#Running tests to judge the accuracy of my model\n",
    "from sklearn.metrics import confusion_matrix\n",
    "confusion_matrix(y_test, y_pred)"
   ]
  },
  {
   "cell_type": "code",
   "execution_count": 29,
   "id": "6b70dfd0",
   "metadata": {},
   "outputs": [
    {
     "data": {
      "text/plain": [
       "0.8341625207296849"
      ]
     },
     "execution_count": 29,
     "metadata": {},
     "output_type": "execute_result"
    }
   ],
   "source": [
    "from sklearn.metrics import accuracy_score\n",
    "accuracy_score(y_test, y_pred)"
   ]
  },
  {
   "cell_type": "code",
   "execution_count": 30,
   "id": "adbab274",
   "metadata": {},
   "outputs": [
    {
     "data": {
      "text/plain": [
       "0.8291558830865177"
      ]
     },
     "execution_count": 30,
     "metadata": {},
     "output_type": "execute_result"
    }
   ],
   "source": [
    "from sklearn.metrics import precision_score\n",
    "precision_score(y_test, y_pred, average='weighted')"
   ]
  },
  {
   "cell_type": "code",
   "execution_count": 31,
   "id": "09b699a1",
   "metadata": {},
   "outputs": [
    {
     "data": {
      "text/plain": [
       "0.5995839833593344"
      ]
     },
     "execution_count": 31,
     "metadata": {},
     "output_type": "execute_result"
    }
   ],
   "source": [
    "from sklearn.metrics import recall_score\n",
    "recall_score(y_test, y_pred)"
   ]
  },
  {
   "cell_type": "code",
   "execution_count": 32,
   "id": "7a6f6875",
   "metadata": {},
   "outputs": [
    {
     "data": {
      "text/plain": [
       "0.8311011724314925"
      ]
     },
     "execution_count": 32,
     "metadata": {},
     "output_type": "execute_result"
    }
   ],
   "source": [
    "from sklearn.metrics import f1_score\n",
    "f1_score(y_test, y_pred, average='weighted')"
   ]
  },
  {
   "cell_type": "code",
   "execution_count": 33,
   "id": "3294b7ae",
   "metadata": {},
   "outputs": [
    {
     "name": "stdout",
     "output_type": "stream",
     "text": [
      "0.7531494504653528\n"
     ]
    },
    {
     "data": {
      "text/plain": [
       "Text(0.5, 1.0, 'ROC curve')"
      ]
     },
     "execution_count": 33,
     "metadata": {},
     "output_type": "execute_result"
    },
    {
     "data": {
      "image/png": "[encoded data removed]",
      "text/plain": [
       "<Figure size 432x288 with 1 Axes>"
      ]
     },
     "metadata": {
      "needs_background": "light"
     },
     "output_type": "display_data"
    }
   ],
   "source": [
    "from sklearn.metrics import roc_curve, roc_auc_score\n",
    "\n",
    "print(roc_auc_score(y_test, y_pred))\n",
    "\n",
    "fpr, tpr, _ = roc_curve(y_test, y_pred)\n",
    "\n",
    "plt.plot(fpr, tpr)\n",
    "plt.xlabel('FPR')\n",
    "plt.ylabel('TPR')\n",
    "plt.title('ROC curve')"
   ]
  },
  {
   "cell_type": "code",
   "execution_count": 34,
   "id": "32ca131f",
   "metadata": {},
   "outputs": [],
   "source": [
    "#PART 3\n",
    "#6. TUNE DECISION TREE PERFORMANCE"
   ]
  },
  {
   "cell_type": "code",
   "execution_count": 35,
   "id": "f738a723",
   "metadata": {},
   "outputs": [],
   "source": [
    "#created a function to automatically run these tests for different criteria\n",
    "\n",
    "def dtree_Scoring(criterion, depth, leaf, split):\n",
    "  dtree = DecisionTreeClassifier(criterion=criterion, max_depth=depth, random_state=101,\n",
    "                               max_features = None, min_samples_leaf = leaf, min_samples_split = split)\n",
    "  dtree.fit(x_train, y_train)\n",
    "  y_pred = dtree.predict(x_test)\n",
    "  print('Scoring Chart for the following inputs:', 'criterion =',criterion, ',', 'depth =', depth,',', 'leaf =', leaf,',', 'split =', split)\n",
    "  print('Confusion Matrix: ', confusion_matrix(y_test, y_pred))\n",
    "  print('Accuracy Score: ', accuracy_score(y_test, y_pred))\n",
    "  print('Precision Score: ',precision_score(y_test, y_pred, average='weighted'))\n",
    "  print('Recall Score: ', recall_score(y_test, y_pred))\n",
    "  print('F1 Score: ', f1_score(y_test, y_pred, average='weighted'))\n",
    "  print('ROC AUC Score: ', roc_auc_score(y_test, y_pred))\n",
    "\n",
    "  fpr, tpr, _ = roc_curve(y_test, y_pred)\n",
    "\n",
    "  plt.plot(fpr, tpr)\n",
    "  plt.xlabel('FPR')\n",
    "  plt.ylabel('TPR')\n",
    "  plt.title('ROC curve')"
   ]
  },
  {
   "cell_type": "code",
   "execution_count": 36,
   "id": "8efa43b6",
   "metadata": {},
   "outputs": [
    {
     "name": "stdout",
     "output_type": "stream",
     "text": [
      "Scoring Chart for the following inputs: criterion = gini , depth = None , leaf = 250 , split = 500\n",
      "Confusion Matrix:  [[11446   989]\n",
      " [ 1651  2195]]\n",
      "Accuracy Score:  0.837847798046803\n",
      "Precision Score:  0.8303435791516517\n",
      "Recall Score:  0.5707228289131565\n",
      "F1 Score:  0.8323151969285115\n",
      "ROC AUC Score:  0.7455946271626499\n"
     ]
    },
    {
     "data": {
      "image/png": "[encoded data removed]",
      "text/plain": [
       "<Figure size 432x288 with 1 Axes>"
      ]
     },
     "metadata": {
      "needs_background": "light"
     },
     "output_type": "display_data"
    }
   ],
   "source": [
    "#Calling the function the different sets of criteria\n",
    "dtree_Scoring('gini', None, 250, 500)"
   ]
  },
  {
   "cell_type": "code",
   "execution_count": 37,
   "id": "0ef80655",
   "metadata": {},
   "outputs": [
    {
     "name": "stdout",
     "output_type": "stream",
     "text": [
      "Scoring Chart for the following inputs: criterion = gini , depth = 4 , leaf = 250 , split = 500\n",
      "Confusion Matrix:  [[11605   830]\n",
      " [ 1866  1980]]\n",
      "Accuracy Score:  0.8344082058841594\n",
      "Precision Score:  0.8244272082794002\n",
      "Recall Score:  0.514820592823713\n",
      "F1 Score:  0.8248321729578761\n",
      "ROC AUC Score:  0.7240367539912694\n"
     ]
    },
    {
     "data": {
      "image/png": "[encoded data removed]",
      "text/plain": [
       "<Figure size 432x288 with 1 Axes>"
      ]
     },
     "metadata": {
      "needs_background": "light"
     },
     "output_type": "display_data"
    }
   ],
   "source": [
    "dtree_Scoring('gini', 4, 250, 500)"
   ]
  },
  {
   "cell_type": "code",
   "execution_count": 38,
   "id": "f9c8e4ab",
   "metadata": {},
   "outputs": [
    {
     "name": "stdout",
     "output_type": "stream",
     "text": [
      "Scoring Chart for the following inputs: criterion = gini , depth = None , leaf = 400 , split = 500\n",
      "Confusion Matrix:  [[11513   922]\n",
      " [ 1754  2092]]\n",
      "Accuracy Score:  0.8356366316565321\n",
      "Precision Score:  0.8267602254815588\n",
      "Recall Score:  0.5439417576703068\n",
      "F1 Score:  0.8283297120698255\n",
      "ROC AUC Score:  0.7348981003872241\n"
     ]
    },
    {
     "data": {
      "image/png": "[encoded data removed]",
      "text/plain": [
       "<Figure size 432x288 with 1 Axes>"
      ]
     },
     "metadata": {
      "needs_background": "light"
     },
     "output_type": "display_data"
    }
   ],
   "source": [
    "dtree_Scoring('gini', None, 400, 500)"
   ]
  },
  {
   "cell_type": "code",
   "execution_count": 39,
   "id": "05bf79ad",
   "metadata": {},
   "outputs": [
    {
     "name": "stdout",
     "output_type": "stream",
     "text": [
      "Scoring Chart for the following inputs: criterion = gini , depth = None , leaf = 250 , split = 600\n",
      "Confusion Matrix:  [[11446   989]\n",
      " [ 1651  2195]]\n",
      "Accuracy Score:  0.837847798046803\n",
      "Precision Score:  0.8303435791516517\n",
      "Recall Score:  0.5707228289131565\n",
      "F1 Score:  0.8323151969285115\n",
      "ROC AUC Score:  0.7455946271626499\n"
     ]
    },
    {
     "data": {
      "image/png": "[encoded data removed]",
      "text/plain": [
       "<Figure size 432x288 with 1 Axes>"
      ]
     },
     "metadata": {
      "needs_background": "light"
     },
     "output_type": "display_data"
    }
   ],
   "source": [
    "dtree_Scoring('gini', None, 250, 600)"
   ]
  },
  {
   "cell_type": "code",
   "execution_count": 40,
   "id": "21f8119c",
   "metadata": {},
   "outputs": [
    {
     "name": "stdout",
     "output_type": "stream",
     "text": [
      "Scoring Chart for the following inputs: criterion = entropy , depth = None , leaf = 250 , split = 500\n",
      "Confusion Matrix:  [[11470   965]\n",
      " [ 1659  2187]]\n",
      "Accuracy Score:  0.8388305386647011\n",
      "Precision Score:  0.8311666007765293\n",
      "Recall Score:  0.5686427457098284\n",
      "F1 Score:  0.8330265329912792\n",
      "ROC AUC Score:  0.745519603655075\n"
     ]
    },
    {
     "data": {
      "image/png": "[encoded data removed]",
      "text/plain": [
       "<Figure size 432x288 with 1 Axes>"
      ]
     },
     "metadata": {
      "needs_background": "light"
     },
     "output_type": "display_data"
    }
   ],
   "source": [
    "dtree_Scoring('entropy', None, 250, 500)"
   ]
  },
  {
   "cell_type": "code",
   "execution_count": 41,
   "id": "5b801df2",
   "metadata": {},
   "outputs": [
    {
     "name": "stdout",
     "output_type": "stream",
     "text": [
      "Scoring Chart for the following inputs: criterion = entropy , depth = 4 , leaf = 250 , split = 500\n",
      "Confusion Matrix:  [[11605   830]\n",
      " [ 1866  1980]]\n",
      "Accuracy Score:  0.8344082058841594\n",
      "Precision Score:  0.8244272082794002\n",
      "Recall Score:  0.514820592823713\n",
      "F1 Score:  0.8248321729578761\n",
      "ROC AUC Score:  0.7240367539912694\n"
     ]
    },
    {
     "data": {
      "image/png": "[encoded data removed]",
      "text/plain": [
       "<Figure size 432x288 with 1 Axes>"
      ]
     },
     "metadata": {
      "needs_background": "light"
     },
     "output_type": "display_data"
    }
   ],
   "source": [
    "dtree_Scoring('entropy', 4, 250, 500)"
   ]
  },
  {
   "cell_type": "code",
   "execution_count": 42,
   "id": "5d701ba1",
   "metadata": {},
   "outputs": [
    {
     "name": "stdout",
     "output_type": "stream",
     "text": [
      "Scoring Chart for the following inputs: criterion = entropy , depth = None , leaf = 400 , split = 500\n",
      "Confusion Matrix:  [[11394  1041]\n",
      " [ 1625  2221]]\n",
      "Accuracy Score:  0.8362508445427185\n",
      "Precision Score:  0.8292808741603134\n",
      "Recall Score:  0.5774830993239729\n",
      "F1 Score:  0.831402428824731\n",
      "ROC AUC Score:  0.7468838898308647\n"
     ]
    },
    {
     "data": {
      "image/png": "[encoded data removed]",
      "text/plain": [
       "<Figure size 432x288 with 1 Axes>"
      ]
     },
     "metadata": {
      "needs_background": "light"
     },
     "output_type": "display_data"
    }
   ],
   "source": [
    "dtree_Scoring('entropy', None, 400, 500)"
   ]
  },
  {
   "cell_type": "code",
   "execution_count": 43,
   "id": "9c2e1d84",
   "metadata": {},
   "outputs": [
    {
     "name": "stdout",
     "output_type": "stream",
     "text": [
      "Scoring Chart for the following inputs: criterion = gini , depth = None , leaf = 250 , split = 600\n",
      "Confusion Matrix:  [[11446   989]\n",
      " [ 1651  2195]]\n",
      "Accuracy Score:  0.837847798046803\n",
      "Precision Score:  0.8303435791516517\n",
      "Recall Score:  0.5707228289131565\n",
      "F1 Score:  0.8323151969285115\n",
      "ROC AUC Score:  0.7455946271626499\n"
     ]
    },
    {
     "data": {
      "image/png": "[encoded data removed]",
      "text/plain": [
       "<Figure size 432x288 with 1 Axes>"
      ]
     },
     "metadata": {
      "needs_background": "light"
     },
     "output_type": "display_data"
    }
   ],
   "source": [
    "dtree_Scoring('gini', None, 250, 600)"
   ]
  },
  {
   "cell_type": "code",
   "execution_count": 44,
   "id": "649094b9",
   "metadata": {},
   "outputs": [],
   "source": [
    "#8. AUTOMATION OF PERFORMANCE TUNING\n",
    "#Created a function to accept a list of different specifications then, score each attribute according to those specifications and append that to a list.\n",
    "#After that has iterated through every feature in the list it creates a dataframe with all the data to easily display the information.\n",
    "def dtree_Scoring_table(value_lists):\n",
    "  criteria = ['criterion', 'depth', 'leaf', 'split']\n",
    "  data_dict = []\n",
    "  for values in value_lists:\n",
    "      my_dict = {criteria[i]: values[i] for i in range(len(values))}\n",
    "        \n",
    "      dtree = DecisionTreeClassifier(criterion=my_dict['criterion'], max_depth=my_dict['depth'], random_state=101,\n",
    "                                    max_features = None, min_samples_leaf = my_dict['leaf'], min_samples_split = my_dict['split'])\n",
    "      dtree.fit(x_train, y_train)\n",
    "      y_pred = dtree.predict(x_test)\n",
    "\n",
    "      acc_score = accuracy_score(y_test, y_pred)\n",
    "      rec_score = recall_score(y_test, y_pred)\n",
    "      prec_score = precision_score(y_test, y_pred, average='weighted')\n",
    "      scored_f = f1_score(y_test, y_pred, average='weighted')\n",
    "\n",
    "      listed_values  = [my_dict['criterion'], my_dict['split'], my_dict['leaf'], my_dict['depth'], acc_score, rec_score, prec_score, scored_f]\n",
    "      headers = ['Split Criteria', 'Minimum Sample Split', 'Minimum Sample Leaf', 'Maximum Depth', 'Accuracy', 'Recall', 'Precision', 'F1 Score']\n",
    "      final_dict = {headers[i]: listed_values[i] for i in range(len(headers))}\n",
    "      data_dict.append(final_dict)\n",
    "  return pd.DataFrame(data_dict, columns=headers)"
   ]
  },
  {
   "cell_type": "code",
   "execution_count": 45,
   "id": "0960c690",
   "metadata": {},
   "outputs": [],
   "source": [
    "specifications = [['gini', None, 250, 500], ['gini', 4, 250, 500], ['gini', None, 400, 500], ['gini', None, 250, 600], ['entropy', None, 250, 500], ['entropy', 4, 250, 500], ['entropy', None, 400, 500], ['entropy', None, 250, 600]]"
   ]
  },
  {
   "cell_type": "code",
   "execution_count": 46,
   "id": "9bccb83d",
   "metadata": {},
   "outputs": [
    {
     "data": {
      "text/html": [
       "<div>\n",
       "<style scoped>\n",
       "    .dataframe tbody tr th:only-of-type {\n",
       "        vertical-align: middle;\n",
       "    }\n",
       "\n",
       "    .dataframe tbody tr th {\n",
       "        vertical-align: top;\n",
       "    }\n",
       "\n",
       "    .dataframe thead th {\n",
       "        text-align: right;\n",
       "    }\n",
       "</style>\n",
       "<table border=\"1\" class=\"dataframe\">\n",
       "  <thead>\n",
       "    <tr style=\"text-align: right;\">\n",
       "      <th></th>\n",
       "      <th>Split Criteria</th>\n",
       "      <th>Minimum Sample Split</th>\n",
       "      <th>Minimum Sample Leaf</th>\n",
       "      <th>Maximum Depth</th>\n",
       "      <th>Accuracy</th>\n",
       "      <th>Recall</th>\n",
       "      <th>Precision</th>\n",
       "      <th>F1 Score</th>\n",
       "    </tr>\n",
       "  </thead>\n",
       "  <tbody>\n",
       "    <tr>\n",
       "      <th>0</th>\n",
       "      <td>gini</td>\n",
       "      <td>500</td>\n",
       "      <td>250</td>\n",
       "      <td>NaN</td>\n",
       "      <td>0.837848</td>\n",
       "      <td>0.570723</td>\n",
       "      <td>0.830344</td>\n",
       "      <td>0.832315</td>\n",
       "    </tr>\n",
       "    <tr>\n",
       "      <th>1</th>\n",
       "      <td>gini</td>\n",
       "      <td>500</td>\n",
       "      <td>250</td>\n",
       "      <td>4.0</td>\n",
       "      <td>0.834408</td>\n",
       "      <td>0.514821</td>\n",
       "      <td>0.824427</td>\n",
       "      <td>0.824832</td>\n",
       "    </tr>\n",
       "    <tr>\n",
       "      <th>2</th>\n",
       "      <td>gini</td>\n",
       "      <td>500</td>\n",
       "      <td>400</td>\n",
       "      <td>NaN</td>\n",
       "      <td>0.835637</td>\n",
       "      <td>0.543942</td>\n",
       "      <td>0.826760</td>\n",
       "      <td>0.828330</td>\n",
       "    </tr>\n",
       "    <tr>\n",
       "      <th>3</th>\n",
       "      <td>gini</td>\n",
       "      <td>600</td>\n",
       "      <td>250</td>\n",
       "      <td>NaN</td>\n",
       "      <td>0.837848</td>\n",
       "      <td>0.570723</td>\n",
       "      <td>0.830344</td>\n",
       "      <td>0.832315</td>\n",
       "    </tr>\n",
       "    <tr>\n",
       "      <th>4</th>\n",
       "      <td>entropy</td>\n",
       "      <td>500</td>\n",
       "      <td>250</td>\n",
       "      <td>NaN</td>\n",
       "      <td>0.838831</td>\n",
       "      <td>0.568643</td>\n",
       "      <td>0.831167</td>\n",
       "      <td>0.833027</td>\n",
       "    </tr>\n",
       "    <tr>\n",
       "      <th>5</th>\n",
       "      <td>entropy</td>\n",
       "      <td>500</td>\n",
       "      <td>250</td>\n",
       "      <td>4.0</td>\n",
       "      <td>0.834408</td>\n",
       "      <td>0.514821</td>\n",
       "      <td>0.824427</td>\n",
       "      <td>0.824832</td>\n",
       "    </tr>\n",
       "    <tr>\n",
       "      <th>6</th>\n",
       "      <td>entropy</td>\n",
       "      <td>500</td>\n",
       "      <td>400</td>\n",
       "      <td>NaN</td>\n",
       "      <td>0.836251</td>\n",
       "      <td>0.577483</td>\n",
       "      <td>0.829281</td>\n",
       "      <td>0.831402</td>\n",
       "    </tr>\n",
       "    <tr>\n",
       "      <th>7</th>\n",
       "      <td>entropy</td>\n",
       "      <td>600</td>\n",
       "      <td>250</td>\n",
       "      <td>NaN</td>\n",
       "      <td>0.838831</td>\n",
       "      <td>0.568643</td>\n",
       "      <td>0.831167</td>\n",
       "      <td>0.833027</td>\n",
       "    </tr>\n",
       "  </tbody>\n",
       "</table>\n",
       "</div>"
      ],
      "text/plain": [
       "  Split Criteria  Minimum Sample Split  Minimum Sample Leaf  Maximum Depth  \\\n",
       "0           gini                   500                  250            NaN   \n",
       "1           gini                   500                  250            4.0   \n",
       "2           gini                   500                  400            NaN   \n",
       "3           gini                   600                  250            NaN   \n",
       "4        entropy                   500                  250            NaN   \n",
       "5        entropy                   500                  250            4.0   \n",
       "6        entropy                   500                  400            NaN   \n",
       "7        entropy                   600                  250            NaN   \n",
       "\n",
       "   Accuracy    Recall  Precision  F1 Score  \n",
       "0  0.837848  0.570723   0.830344  0.832315  \n",
       "1  0.834408  0.514821   0.824427  0.824832  \n",
       "2  0.835637  0.543942   0.826760  0.828330  \n",
       "3  0.837848  0.570723   0.830344  0.832315  \n",
       "4  0.838831  0.568643   0.831167  0.833027  \n",
       "5  0.834408  0.514821   0.824427  0.824832  \n",
       "6  0.836251  0.577483   0.829281  0.831402  \n",
       "7  0.838831  0.568643   0.831167  0.833027  "
      ]
     },
     "execution_count": 46,
     "metadata": {},
     "output_type": "execute_result"
    }
   ],
   "source": [
    "dtree_Scoring_table(specifications)"
   ]
  },
  {
   "cell_type": "code",
   "execution_count": 47,
   "id": "747ecd38",
   "metadata": {},
   "outputs": [],
   "source": [
    "#7. CONCLUSION"
   ]
  },
  {
   "cell_type": "code",
   "execution_count": 48,
   "id": "69fcfccc",
   "metadata": {},
   "outputs": [
    {
     "name": "stdout",
     "output_type": "stream",
     "text": [
      "CPU times: user 1 µs, sys: 0 ns, total: 1 µs\n",
      "Wall time: 3.1 µs\n"
     ]
    }
   ],
   "source": [
    "%time \n",
    "dtree.fit(x_train, y_train)\n",
    "y_pred = dtree.predict(x_test)"
   ]
  },
  {
   "cell_type": "code",
   "execution_count": 49,
   "id": "7fffabd7",
   "metadata": {},
   "outputs": [],
   "source": [
    "#Q8.1 the time was 10 microseconds"
   ]
  },
  {
   "cell_type": "code",
   "execution_count": 50,
   "id": "99a1949d",
   "metadata": {},
   "outputs": [],
   "source": [
    "#Q8.2 The best tree in my tests was the one based on entropy with a minimum sample split of 500,\n",
    "#minimum leaf size of 250 and no depth limit."
   ]
  },
  {
   "cell_type": "code",
   "execution_count": 51,
   "id": "a7f1c1ab",
   "metadata": {},
   "outputs": [
    {
     "ename": "InvocationException",
     "evalue": "GraphViz's executables not found",
     "output_type": "error",
     "traceback": [
      "\u001b[0;31m---------------------------------------------------------------------------\u001b[0m",
      "\u001b[0;31mInvocationException\u001b[0m                       Traceback (most recent call last)",
      "\u001b[0;32m<ipython-input-51-29af5648c01e>\u001b[0m in \u001b[0;36m<module>\u001b[0;34m\u001b[0m\n\u001b[1;32m     19\u001b[0m \u001b[0;34m\u001b[0m\u001b[0m\n\u001b[1;32m     20\u001b[0m \u001b[0mgraph\u001b[0m \u001b[0;34m=\u001b[0m \u001b[0mpydotplus\u001b[0m\u001b[0;34m.\u001b[0m\u001b[0mgraph_from_dot_data\u001b[0m\u001b[0;34m(\u001b[0m\u001b[0mdot_data\u001b[0m\u001b[0;34m.\u001b[0m\u001b[0mgetvalue\u001b[0m\u001b[0;34m(\u001b[0m\u001b[0;34m)\u001b[0m\u001b[0;34m)\u001b[0m\u001b[0;34m\u001b[0m\u001b[0;34m\u001b[0m\u001b[0m\n\u001b[0;32m---> 21\u001b[0;31m \u001b[0mImage\u001b[0m\u001b[0;34m(\u001b[0m\u001b[0mgraph\u001b[0m\u001b[0;34m.\u001b[0m\u001b[0mcreate_png\u001b[0m\u001b[0;34m(\u001b[0m\u001b[0;34m)\u001b[0m\u001b[0;34m)\u001b[0m\u001b[0;34m\u001b[0m\u001b[0;34m\u001b[0m\u001b[0m\n\u001b[0m",
      "\u001b[0;32m/opt/anaconda3/lib/python3.8/site-packages/pydotplus/graphviz.py\u001b[0m in \u001b[0;36m<lambda>\u001b[0;34m(f, prog)\u001b[0m\n\u001b[1;32m   1795\u001b[0m             self.__setattr__(\n\u001b[1;32m   1796\u001b[0m                 \u001b[0;34m'create_'\u001b[0m \u001b[0;34m+\u001b[0m \u001b[0mfrmt\u001b[0m\u001b[0;34m,\u001b[0m\u001b[0;34m\u001b[0m\u001b[0;34m\u001b[0m\u001b[0m\n\u001b[0;32m-> 1797\u001b[0;31m                 \u001b[0;32mlambda\u001b[0m \u001b[0mf\u001b[0m\u001b[0;34m=\u001b[0m\u001b[0mfrmt\u001b[0m\u001b[0;34m,\u001b[0m \u001b[0mprog\u001b[0m\u001b[0;34m=\u001b[0m\u001b[0mself\u001b[0m\u001b[0;34m.\u001b[0m\u001b[0mprog\u001b[0m\u001b[0;34m:\u001b[0m \u001b[0mself\u001b[0m\u001b[0;34m.\u001b[0m\u001b[0mcreate\u001b[0m\u001b[0;34m(\u001b[0m\u001b[0mformat\u001b[0m\u001b[0;34m=\u001b[0m\u001b[0mf\u001b[0m\u001b[0;34m,\u001b[0m \u001b[0mprog\u001b[0m\u001b[0;34m=\u001b[0m\u001b[0mprog\u001b[0m\u001b[0;34m)\u001b[0m\u001b[0;34m\u001b[0m\u001b[0;34m\u001b[0m\u001b[0m\n\u001b[0m\u001b[1;32m   1798\u001b[0m             )\n\u001b[1;32m   1799\u001b[0m             \u001b[0mf\u001b[0m \u001b[0;34m=\u001b[0m \u001b[0mself\u001b[0m\u001b[0;34m.\u001b[0m\u001b[0m__dict__\u001b[0m\u001b[0;34m[\u001b[0m\u001b[0;34m'create_'\u001b[0m \u001b[0;34m+\u001b[0m \u001b[0mfrmt\u001b[0m\u001b[0;34m]\u001b[0m\u001b[0;34m\u001b[0m\u001b[0;34m\u001b[0m\u001b[0m\n",
      "\u001b[0;32m/opt/anaconda3/lib/python3.8/site-packages/pydotplus/graphviz.py\u001b[0m in \u001b[0;36mcreate\u001b[0;34m(self, prog, format)\u001b[0m\n\u001b[1;32m   1957\u001b[0m             \u001b[0mself\u001b[0m\u001b[0;34m.\u001b[0m\u001b[0mprogs\u001b[0m \u001b[0;34m=\u001b[0m \u001b[0mfind_graphviz\u001b[0m\u001b[0;34m(\u001b[0m\u001b[0;34m)\u001b[0m\u001b[0;34m\u001b[0m\u001b[0;34m\u001b[0m\u001b[0m\n\u001b[1;32m   1958\u001b[0m             \u001b[0;32mif\u001b[0m \u001b[0mself\u001b[0m\u001b[0;34m.\u001b[0m\u001b[0mprogs\u001b[0m \u001b[0;32mis\u001b[0m \u001b[0;32mNone\u001b[0m\u001b[0;34m:\u001b[0m\u001b[0;34m\u001b[0m\u001b[0;34m\u001b[0m\u001b[0m\n\u001b[0;32m-> 1959\u001b[0;31m                 raise InvocationException(\n\u001b[0m\u001b[1;32m   1960\u001b[0m                     'GraphViz\\'s executables not found')\n\u001b[1;32m   1961\u001b[0m \u001b[0;34m\u001b[0m\u001b[0m\n",
      "\u001b[0;31mInvocationException\u001b[0m: GraphViz's executables not found"
     ]
    }
   ],
   "source": [
    "#Q8.3 The tree is graphed below\n",
    "\n",
    "dtree = DecisionTreeClassifier(criterion='entropy', max_depth=None, random_state=99,\n",
    "                               max_features = None, min_samples_leaf = 250, min_samples_split = 500)\n",
    "\n",
    "dtree.fit(x_train, y_train)\n",
    "\n",
    "y_pred = dtree.predict(x_test)\n",
    "from six import StringIO  \n",
    "from IPython.display import Image  \n",
    "from sklearn.tree import export_graphviz\n",
    "import pydotplus\n",
    "\n",
    "dot_data = StringIO()\n",
    "\n",
    "export_graphviz(dtree, out_file=dot_data,  \n",
    "                filled=True, rounded=True,\n",
    "                special_characters=True)\n",
    "\n",
    "graph = pydotplus.graph_from_dot_data(dot_data.getvalue())  \n",
    "Image(graph.create_png())"
   ]
  },
  {
   "cell_type": "code",
   "execution_count": 52,
   "id": "b7a8d3f0",
   "metadata": {},
   "outputs": [],
   "source": [
    "#Q8.4 This is the best tree because it has the highest accuracy score without compromising much in regards to precision and recall.\n",
    "#This model is likely to predict the right answer with similar precision and recall scores to its competitors."
   ]
  },
  {
   "cell_type": "code",
   "execution_count": 53,
   "id": "d918f7c0",
   "metadata": {},
   "outputs": [],
   "source": [
    "#PART 4\n",
    "#8. AUTOMATION OF PERFORMANCE TUNING\n",
    "#Already answered 9 input rows back"
   ]
  },
  {
   "cell_type": "code",
   "execution_count": 54,
   "id": "400d8ead",
   "metadata": {},
   "outputs": [
    {
     "data": {
      "text/plain": [
       "array([1])"
      ]
     },
     "execution_count": 54,
     "metadata": {},
     "output_type": "execute_result"
    }
   ],
   "source": [
    "#PART 5\n",
    "#9. PREDICTION USING YOUR 'TRAINED' DECISION TREE MODEL\n",
    "import numpy as np\n",
    "new_test = [3, 1, 2, 2, 1, 1, 4, 1, 3]\n",
    "new_test = np.array(new_test).reshape(1, -1)\n",
    "y_pred = dtree.predict(new_test)\n",
    "y_pred"
   ]
  },
  {
   "cell_type": "code",
   "execution_count": 55,
   "id": "0bae845d",
   "metadata": {},
   "outputs": [],
   "source": [
    "#Q10.1 based on my tree I predict that the person's income is going to be greater than 50k."
   ]
  }
 ],
 "metadata": {
  "kernelspec": {
   "display_name": "Python 3",
   "language": "python",
   "name": "python3"
  },
  "language_info": {
   "codemirror_mode": {
    "name": "ipython",
    "version": 3
   },
   "file_extension": ".py",
   "mimetype": "text/x-python",
   "name": "python",
   "nbconvert_exporter": "python",
   "pygments_lexer": "ipython3",
   "version": "3.8.8"
  }
 },
 "nbformat": 4,
 "nbformat_minor": 5
}
